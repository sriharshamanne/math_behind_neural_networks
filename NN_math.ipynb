{
 "cells": [
  {
   "cell_type": "code",
   "execution_count": 1,
   "id": "b6beb8cb",
   "metadata": {},
   "outputs": [],
   "source": [
    "import numpy as np"
   ]
  },
  {
   "cell_type": "code",
   "execution_count": 2,
   "id": "b617e220",
   "metadata": {},
   "outputs": [],
   "source": [
    "# define the sigmoid function\n",
    "def sigmoid(x, derivative=False):\n",
    "\n",
    "    if (derivative == True):\n",
    "        return sigmoid(x,derivative=False) * (1 - sigmoid(x,derivative=False))\n",
    "    else:\n",
    "        return 1 / (1 + np.exp(-x))"
   ]
  },
  {
   "cell_type": "code",
   "execution_count": 3,
   "id": "a8dd745f",
   "metadata": {},
   "outputs": [],
   "source": [
    "# choose a random seed for reproducible results\n",
    "np.random.seed(1)"
   ]
  },
  {
   "cell_type": "code",
   "execution_count": 4,
   "id": "3fb33174",
   "metadata": {},
   "outputs": [],
   "source": [
    "# learning rate\n",
    "alpha = .1"
   ]
  },
  {
   "cell_type": "code",
   "execution_count": 5,
   "id": "42b31446",
   "metadata": {},
   "outputs": [],
   "source": [
    "# number of nodes in the hidden layer\n",
    "num_hidden = 3"
   ]
  },
  {
   "cell_type": "code",
   "execution_count": 6,
   "id": "02c27610",
   "metadata": {},
   "outputs": [],
   "source": [
    "# inputs\n",
    "X = np.array([  \n",
    "    [0, 0, 1],\n",
    "    [0, 1, 1],\n",
    "    [1, 0, 0],\n",
    "    [1, 1, 0],\n",
    "    [1, 0, 1],\n",
    "    [1, 1, 1],\n",
    "])"
   ]
  },
  {
   "cell_type": "code",
   "execution_count": 7,
   "id": "a90c4877",
   "metadata": {},
   "outputs": [
    {
     "data": {
      "text/plain": [
       "(6, 3)"
      ]
     },
     "execution_count": 7,
     "metadata": {},
     "output_type": "execute_result"
    }
   ],
   "source": [
    "X.shape"
   ]
  },
  {
   "cell_type": "code",
   "execution_count": 8,
   "id": "abdd95a5",
   "metadata": {},
   "outputs": [],
   "source": [
    "# outputs\n",
    "# x.T is the transpose of x, making this a column vector\n",
    "y = np.array([[0, 1, 0, 1, 1, 0]]).T"
   ]
  },
  {
   "cell_type": "code",
   "execution_count": 9,
   "id": "e843646f",
   "metadata": {},
   "outputs": [
    {
     "data": {
      "text/plain": [
       "array([[0],\n",
       "       [1],\n",
       "       [0],\n",
       "       [1],\n",
       "       [1],\n",
       "       [0]])"
      ]
     },
     "execution_count": 9,
     "metadata": {},
     "output_type": "execute_result"
    }
   ],
   "source": [
    "y"
   ]
  },
  {
   "cell_type": "code",
   "execution_count": 10,
   "id": "d9dbe665",
   "metadata": {},
   "outputs": [
    {
     "data": {
      "text/plain": [
       "(6, 1)"
      ]
     },
     "execution_count": 10,
     "metadata": {},
     "output_type": "execute_result"
    }
   ],
   "source": [
    "y.shape"
   ]
  },
  {
   "cell_type": "code",
   "execution_count": 11,
   "id": "272976ac",
   "metadata": {},
   "outputs": [],
   "source": [
    "# initialize weights randomly with mean 0 and range [-1, 1]\n",
    "# numpy.random.random - gives [0,1]\n",
    "# the +1 in the 1st dimension of the weight matrices is for the bias weight\n",
    "hidden_weights = 2*np.random.random((X.shape[1] + 1, num_hidden)) - 1\n",
    "output_weights = 2*np.random.random((num_hidden + 1, y.shape[1])) - 1"
   ]
  },
  {
   "cell_type": "code",
   "execution_count": 12,
   "id": "e121ac2b",
   "metadata": {},
   "outputs": [],
   "source": [
    "# number of iterations of gradient descent\n",
    "num_iterations = 10000"
   ]
  },
  {
   "cell_type": "code",
   "execution_count": 13,
   "id": "f23d6988",
   "metadata": {},
   "outputs": [
    {
     "data": {
      "text/plain": [
       "array([[-0.16595599,  0.44064899, -0.99977125],\n",
       "       [-0.39533485, -0.70648822, -0.81532281],\n",
       "       [-0.62747958, -0.30887855, -0.20646505],\n",
       "       [ 0.07763347, -0.16161097,  0.370439  ]])"
      ]
     },
     "execution_count": 13,
     "metadata": {},
     "output_type": "execute_result"
    }
   ],
   "source": [
    "hidden_weights"
   ]
  },
  {
   "cell_type": "code",
   "execution_count": 14,
   "id": "c52e650e",
   "metadata": {},
   "outputs": [
    {
     "data": {
      "text/plain": [
       "array([[-0.5910955 ],\n",
       "       [ 0.75623487],\n",
       "       [-0.94522481],\n",
       "       [ 0.34093502]])"
      ]
     },
     "execution_count": 14,
     "metadata": {},
     "output_type": "execute_result"
    }
   ],
   "source": [
    "output_weights"
   ]
  },
  {
   "cell_type": "code",
   "execution_count": 15,
   "id": "7b870b2a",
   "metadata": {},
   "outputs": [],
   "source": [
    "# for each iteration of gradient descent\n",
    "for i in range(num_iterations):\n",
    "\n",
    "    # forward phase\n",
    "    # np.hstack((np.ones(...), X) adds a fixed input of 1 for the bias weight\n",
    "    input_layer_outputs = np.hstack((np.ones((X.shape[0], 1)), X))\n",
    "    hidden_layer_outputs = np.hstack((np.ones((X.shape[0], 1)), sigmoid(np.dot(input_layer_outputs, hidden_weights))))\n",
    "    output_layer_outputs = np.dot(hidden_layer_outputs, output_weights)\n",
    "\n",
    "    # backward phase\n",
    "    # output layer error term\n",
    "    output_error = output_layer_outputs - y\n",
    "    # hidden layer error term\n",
    "    # [:, 1:] removes the bias term from the backpropagation\n",
    "    hidden_error = hidden_layer_outputs[:, 1:] * (1 - hidden_layer_outputs[:, 1:]) * np.dot(output_error, output_weights.T[:, 1:])\n",
    "\n",
    "    # partial derivatives\n",
    "    hidden_pd = input_layer_outputs[:, :, np.newaxis] * hidden_error[: , np.newaxis, :]\n",
    "    output_pd = hidden_layer_outputs[:, :, np.newaxis] * output_error[:, np.newaxis, :]\n",
    "\n",
    "    # average for total gradients\n",
    "    total_hidden_gradient = np.average(hidden_pd, axis=0)\n",
    "    total_output_gradient = np.average(output_pd, axis=0)\n",
    "\n",
    "    # update weights\n",
    "    hidden_weights += - alpha * total_hidden_gradient\n",
    "    output_weights += - alpha * total_output_gradient"
   ]
  },
  {
   "cell_type": "code",
   "execution_count": 16,
   "id": "88a24693",
   "metadata": {},
   "outputs": [
    {
     "name": "stdout",
     "output_type": "stream",
     "text": [
      "Output After Training: \n",
      "[[2.11135662e-04]\n",
      " [9.99525588e-01]\n",
      " [1.66889680e-04]\n",
      " [9.99576185e-01]\n",
      " [9.99362960e-01]\n",
      " [1.30185107e-03]]\n"
     ]
    }
   ],
   "source": [
    "# print the final outputs of the neural network on the inputs X\n",
    "print(\"Output After Training: \\n{}\".format(output_layer_outputs))"
   ]
  },
  {
   "cell_type": "code",
   "execution_count": null,
   "id": "8db437b7",
   "metadata": {},
   "outputs": [],
   "source": []
  },
  {
   "cell_type": "code",
   "execution_count": null,
   "id": "7d0ad882",
   "metadata": {},
   "outputs": [],
   "source": []
  },
  {
   "cell_type": "markdown",
   "id": "634cb3de",
   "metadata": {},
   "source": [
    "## Iteration 1"
   ]
  },
  {
   "cell_type": "code",
   "execution_count": 15,
   "id": "36ea1195",
   "metadata": {},
   "outputs": [],
   "source": [
    "# forward phase\n",
    "# np.hstack((np.ones(...), X) adds a fixed input of 1 for the bias weight\n",
    "input_layer_outputs = np.hstack((np.ones((X.shape[0], 1)), X))\n",
    "hidden_layer_outputs = np.hstack((np.ones((X.shape[0], 1)), sigmoid(np.dot(input_layer_outputs, hidden_weights))))\n",
    "output_layer_outputs = np.dot(hidden_layer_outputs, output_weights)"
   ]
  },
  {
   "cell_type": "code",
   "execution_count": 18,
   "id": "495446e3",
   "metadata": {},
   "outputs": [
    {
     "data": {
      "text/plain": [
       "array([[1., 0., 0., 1.],\n",
       "       [1., 0., 1., 1.],\n",
       "       [1., 1., 0., 0.],\n",
       "       [1., 1., 1., 0.],\n",
       "       [1., 1., 0., 1.],\n",
       "       [1., 1., 1., 1.]])"
      ]
     },
     "execution_count": 18,
     "metadata": {},
     "output_type": "execute_result"
    }
   ],
   "source": [
    "input_layer_outputs"
   ]
  },
  {
   "cell_type": "code",
   "execution_count": 16,
   "id": "e0ff11c1",
   "metadata": {},
   "outputs": [
    {
     "data": {
      "text/plain": [
       "array([[-0.08832252,  0.27903802, -0.62933225],\n",
       "       [-0.7158021 , -0.02984053, -0.8357973 ],\n",
       "       [-0.56129085, -0.26583923, -1.81509406],\n",
       "       [-1.18877042, -0.57471778, -2.02155911],\n",
       "       [-0.48365738, -0.4274502 , -1.44465506],\n",
       "       [-1.11113695, -0.73632875, -1.65112011]])"
      ]
     },
     "execution_count": 16,
     "metadata": {},
     "output_type": "execute_result"
    }
   ],
   "source": [
    "np.dot(input_layer_outputs, hidden_weights)"
   ]
  },
  {
   "cell_type": "code",
   "execution_count": 17,
   "id": "48980999",
   "metadata": {},
   "outputs": [
    {
     "data": {
      "text/plain": [
       "array([[0.47793371, 0.56931036, 0.34766196],\n",
       "       [0.32831806, 0.49254042, 0.30242066],\n",
       "       [0.36324884, 0.43392884, 0.14002359],\n",
       "       [0.23347892, 0.36014894, 0.11695787],\n",
       "       [0.38138886, 0.39473536, 0.19082552],\n",
       "       [0.24765899, 0.32380747, 0.16095762]])"
      ]
     },
     "execution_count": 17,
     "metadata": {},
     "output_type": "execute_result"
    }
   ],
   "source": [
    "sigmoid(np.dot(input_layer_outputs, hidden_weights))"
   ]
  },
  {
   "cell_type": "code",
   "execution_count": 19,
   "id": "84e6f136",
   "metadata": {},
   "outputs": [
    {
     "data": {
      "text/plain": [
       "array([[1.        , 0.47793371, 0.56931036, 0.34766196],\n",
       "       [1.        , 0.32831806, 0.49254042, 0.30242066],\n",
       "       [1.        , 0.36324884, 0.43392884, 0.14002359],\n",
       "       [1.        , 0.23347892, 0.36014894, 0.11695787],\n",
       "       [1.        , 0.38138886, 0.39473536, 0.19082552],\n",
       "       [1.        , 0.24765899, 0.32380747, 0.16095762]])"
      ]
     },
     "execution_count": 19,
     "metadata": {},
     "output_type": "execute_result"
    }
   ],
   "source": [
    "hidden_layer_outputs"
   ]
  },
  {
   "cell_type": "code",
   "execution_count": 20,
   "id": "bf548785",
   "metadata": {},
   "outputs": [
    {
     "data": {
      "text/plain": [
       "array([[-0.64926151],\n",
       "       [-0.70526557],\n",
       "       [-0.67881543],\n",
       "       [-0.71507728],\n",
       "       [-0.6107305 ],\n",
       "       [-0.6550019 ]])"
      ]
     },
     "execution_count": 20,
     "metadata": {},
     "output_type": "execute_result"
    }
   ],
   "source": [
    "output_layer_outputs"
   ]
  },
  {
   "cell_type": "code",
   "execution_count": null,
   "id": "888b3c6d",
   "metadata": {},
   "outputs": [],
   "source": []
  },
  {
   "cell_type": "code",
   "execution_count": 18,
   "id": "3432969c",
   "metadata": {},
   "outputs": [],
   "source": [
    "# backward phase\n",
    "# output layer error term\n",
    "output_error = output_layer_outputs - y\n",
    "# hidden layer error term\n",
    "# [:, 1:] removes the bias term from the backpropagation\n",
    "hidden_error = hidden_layer_outputs[:, 1:] * (1 - hidden_layer_outputs[:, 1:]) * np.dot(output_error, output_weights.T[:, 1:])"
   ]
  },
  {
   "cell_type": "code",
   "execution_count": 25,
   "id": "9d142c30",
   "metadata": {},
   "outputs": [
    {
     "data": {
      "text/plain": [
       "array([[-0.64926151],\n",
       "       [-1.70526557],\n",
       "       [-0.67881543],\n",
       "       [-1.71507728],\n",
       "       [-1.6107305 ],\n",
       "       [-0.6550019 ]])"
      ]
     },
     "execution_count": 25,
     "metadata": {},
     "output_type": "execute_result"
    }
   ],
   "source": [
    "output_error"
   ]
  },
  {
   "cell_type": "code",
   "execution_count": 27,
   "id": "1ce93b04",
   "metadata": {},
   "outputs": [
    {
     "data": {
      "text/plain": [
       "array([[0.47793371, 0.56931036, 0.34766196],\n",
       "       [0.32831806, 0.49254042, 0.30242066],\n",
       "       [0.36324884, 0.43392884, 0.14002359],\n",
       "       [0.23347892, 0.36014894, 0.11695787],\n",
       "       [0.38138886, 0.39473536, 0.19082552],\n",
       "       [0.24765899, 0.32380747, 0.16095762]])"
      ]
     },
     "execution_count": 27,
     "metadata": {},
     "output_type": "execute_result"
    }
   ],
   "source": [
    "hidden_layer_outputs[:, 1:]"
   ]
  },
  {
   "cell_type": "code",
   "execution_count": 30,
   "id": "ead137cf",
   "metadata": {},
   "outputs": [
    {
     "data": {
      "text/plain": [
       "array([[0.52206629, 0.43068964, 0.65233804],\n",
       "       [0.67168194, 0.50745958, 0.69757934],\n",
       "       [0.63675116, 0.56607116, 0.85997641],\n",
       "       [0.76652108, 0.63985106, 0.88304213],\n",
       "       [0.61861114, 0.60526464, 0.80917448],\n",
       "       [0.75234101, 0.67619253, 0.83904238]])"
      ]
     },
     "execution_count": 30,
     "metadata": {},
     "output_type": "execute_result"
    }
   ],
   "source": [
    "(1 - hidden_layer_outputs[:, 1:])"
   ]
  },
  {
   "cell_type": "code",
   "execution_count": 19,
   "id": "4a5b2574",
   "metadata": {},
   "outputs": [
    {
     "data": {
      "text/plain": [
       "array([[ 0.75623487, -0.94522481,  0.34093502]])"
      ]
     },
     "execution_count": 19,
     "metadata": {},
     "output_type": "execute_result"
    }
   ],
   "source": [
    "output_weights.T[:, 1:]"
   ]
  },
  {
   "cell_type": "code",
   "execution_count": 29,
   "id": "d12756d4",
   "metadata": {},
   "outputs": [
    {
     "data": {
      "text/plain": [
       "array([[-0.49099419,  0.61369809, -0.22135598],\n",
       "       [-1.28958129,  1.61185933, -0.58138475],\n",
       "       [-0.5133439 ,  0.64163319, -0.23143195],\n",
       "       [-1.29700125,  1.6211336 , -0.58472991],\n",
       "       [-1.21809058,  1.52250244, -0.54915444],\n",
       "       [-0.49533528,  0.61912405, -0.22331309]])"
      ]
     },
     "execution_count": 29,
     "metadata": {},
     "output_type": "execute_result"
    }
   ],
   "source": [
    "np.dot(output_error, output_weights.T[:, 1:])"
   ]
  },
  {
   "cell_type": "code",
   "execution_count": 26,
   "id": "7786a57e",
   "metadata": {},
   "outputs": [
    {
     "data": {
      "text/plain": [
       "array([[-0.12250947,  0.15047636, -0.05020201],\n",
       "       [-0.28438532,  0.40287514, -0.12265032],\n",
       "       [-0.11873599,  0.15760731, -0.02786834],\n",
       "       [-0.23211979,  0.37357675, -0.06039016],\n",
       "       [-0.28738581,  0.3637553 , -0.08479556],\n",
       "       [-0.09229286,  0.13556104, -0.03015849]])"
      ]
     },
     "execution_count": 26,
     "metadata": {},
     "output_type": "execute_result"
    }
   ],
   "source": [
    "hidden_error"
   ]
  },
  {
   "cell_type": "code",
   "execution_count": null,
   "id": "a10a5b03",
   "metadata": {},
   "outputs": [],
   "source": []
  },
  {
   "cell_type": "code",
   "execution_count": 31,
   "id": "277b81bc",
   "metadata": {},
   "outputs": [],
   "source": [
    "# partial derivatives\n",
    "hidden_pd = input_layer_outputs[:, :, np.newaxis] * hidden_error[: , np.newaxis, :]\n",
    "output_pd = hidden_layer_outputs[:, :, np.newaxis] * output_error[:, np.newaxis, :]"
   ]
  },
  {
   "cell_type": "code",
   "execution_count": 34,
   "id": "a9796413",
   "metadata": {
    "scrolled": true
   },
   "outputs": [
    {
     "data": {
      "text/plain": [
       "array([[[1.],\n",
       "        [0.],\n",
       "        [0.],\n",
       "        [1.]],\n",
       "\n",
       "       [[1.],\n",
       "        [0.],\n",
       "        [1.],\n",
       "        [1.]],\n",
       "\n",
       "       [[1.],\n",
       "        [1.],\n",
       "        [0.],\n",
       "        [0.]],\n",
       "\n",
       "       [[1.],\n",
       "        [1.],\n",
       "        [1.],\n",
       "        [0.]],\n",
       "\n",
       "       [[1.],\n",
       "        [1.],\n",
       "        [0.],\n",
       "        [1.]],\n",
       "\n",
       "       [[1.],\n",
       "        [1.],\n",
       "        [1.],\n",
       "        [1.]]])"
      ]
     },
     "execution_count": 34,
     "metadata": {},
     "output_type": "execute_result"
    }
   ],
   "source": [
    "input_layer_outputs[:, :, np.newaxis]"
   ]
  },
  {
   "cell_type": "code",
   "execution_count": 35,
   "id": "cd05c743",
   "metadata": {},
   "outputs": [
    {
     "data": {
      "text/plain": [
       "array([[[-0.12250947,  0.15047636, -0.05020201]],\n",
       "\n",
       "       [[-0.28438532,  0.40287514, -0.12265032]],\n",
       "\n",
       "       [[-0.11873599,  0.15760731, -0.02786834]],\n",
       "\n",
       "       [[-0.23211979,  0.37357675, -0.06039016]],\n",
       "\n",
       "       [[-0.28738581,  0.3637553 , -0.08479556]],\n",
       "\n",
       "       [[-0.09229286,  0.13556104, -0.03015849]]])"
      ]
     },
     "execution_count": 35,
     "metadata": {},
     "output_type": "execute_result"
    }
   ],
   "source": [
    "hidden_error[: , np.newaxis, :]"
   ]
  },
  {
   "cell_type": "code",
   "execution_count": 32,
   "id": "fe0be506",
   "metadata": {
    "scrolled": true
   },
   "outputs": [
    {
     "data": {
      "text/plain": [
       "array([[[-0.12250947,  0.15047636, -0.05020201],\n",
       "        [-0.        ,  0.        , -0.        ],\n",
       "        [-0.        ,  0.        , -0.        ],\n",
       "        [-0.12250947,  0.15047636, -0.05020201]],\n",
       "\n",
       "       [[-0.28438532,  0.40287514, -0.12265032],\n",
       "        [-0.        ,  0.        , -0.        ],\n",
       "        [-0.28438532,  0.40287514, -0.12265032],\n",
       "        [-0.28438532,  0.40287514, -0.12265032]],\n",
       "\n",
       "       [[-0.11873599,  0.15760731, -0.02786834],\n",
       "        [-0.11873599,  0.15760731, -0.02786834],\n",
       "        [-0.        ,  0.        , -0.        ],\n",
       "        [-0.        ,  0.        , -0.        ]],\n",
       "\n",
       "       [[-0.23211979,  0.37357675, -0.06039016],\n",
       "        [-0.23211979,  0.37357675, -0.06039016],\n",
       "        [-0.23211979,  0.37357675, -0.06039016],\n",
       "        [-0.        ,  0.        , -0.        ]],\n",
       "\n",
       "       [[-0.28738581,  0.3637553 , -0.08479556],\n",
       "        [-0.28738581,  0.3637553 , -0.08479556],\n",
       "        [-0.        ,  0.        , -0.        ],\n",
       "        [-0.28738581,  0.3637553 , -0.08479556]],\n",
       "\n",
       "       [[-0.09229286,  0.13556104, -0.03015849],\n",
       "        [-0.09229286,  0.13556104, -0.03015849],\n",
       "        [-0.09229286,  0.13556104, -0.03015849],\n",
       "        [-0.09229286,  0.13556104, -0.03015849]]])"
      ]
     },
     "execution_count": 32,
     "metadata": {},
     "output_type": "execute_result"
    }
   ],
   "source": [
    "hidden_pd"
   ]
  },
  {
   "cell_type": "code",
   "execution_count": 36,
   "id": "85b841bd",
   "metadata": {
    "scrolled": true
   },
   "outputs": [
    {
     "data": {
      "text/plain": [
       "array([[[1.        ],\n",
       "        [0.47793371],\n",
       "        [0.56931036],\n",
       "        [0.34766196]],\n",
       "\n",
       "       [[1.        ],\n",
       "        [0.32831806],\n",
       "        [0.49254042],\n",
       "        [0.30242066]],\n",
       "\n",
       "       [[1.        ],\n",
       "        [0.36324884],\n",
       "        [0.43392884],\n",
       "        [0.14002359]],\n",
       "\n",
       "       [[1.        ],\n",
       "        [0.23347892],\n",
       "        [0.36014894],\n",
       "        [0.11695787]],\n",
       "\n",
       "       [[1.        ],\n",
       "        [0.38138886],\n",
       "        [0.39473536],\n",
       "        [0.19082552]],\n",
       "\n",
       "       [[1.        ],\n",
       "        [0.24765899],\n",
       "        [0.32380747],\n",
       "        [0.16095762]]])"
      ]
     },
     "execution_count": 36,
     "metadata": {},
     "output_type": "execute_result"
    }
   ],
   "source": [
    "hidden_layer_outputs[:, :, np.newaxis] "
   ]
  },
  {
   "cell_type": "code",
   "execution_count": 37,
   "id": "21c58a4c",
   "metadata": {},
   "outputs": [
    {
     "data": {
      "text/plain": [
       "array([[[-0.64926151]],\n",
       "\n",
       "       [[-1.70526557]],\n",
       "\n",
       "       [[-0.67881543]],\n",
       "\n",
       "       [[-1.71507728]],\n",
       "\n",
       "       [[-1.6107305 ]],\n",
       "\n",
       "       [[-0.6550019 ]]])"
      ]
     },
     "execution_count": 37,
     "metadata": {},
     "output_type": "execute_result"
    }
   ],
   "source": [
    "output_error[:, np.newaxis, :]"
   ]
  },
  {
   "cell_type": "code",
   "execution_count": 33,
   "id": "3ed15613",
   "metadata": {
    "scrolled": true
   },
   "outputs": [
    {
     "data": {
      "text/plain": [
       "array([[[-0.64926151],\n",
       "        [-0.31030396],\n",
       "        [-0.3696313 ],\n",
       "        [-0.22572353]],\n",
       "\n",
       "       [[-1.70526557],\n",
       "        [-0.55986948],\n",
       "        [-0.83991222],\n",
       "        [-0.51570754]],\n",
       "\n",
       "       [[-0.67881543],\n",
       "        [-0.24657891],\n",
       "        [-0.29455759],\n",
       "        [-0.09505017]],\n",
       "\n",
       "       [[-1.71507728],\n",
       "        [-0.40043439],\n",
       "        [-0.61768326],\n",
       "        [-0.20059179]],\n",
       "\n",
       "       [[-1.6107305 ],\n",
       "        [-0.61431467],\n",
       "        [-0.63581229],\n",
       "        [-0.30736849]],\n",
       "\n",
       "       [[-0.6550019 ],\n",
       "        [-0.16221711],\n",
       "        [-0.21209451],\n",
       "        [-0.10542755]]])"
      ]
     },
     "execution_count": 33,
     "metadata": {},
     "output_type": "execute_result"
    }
   ],
   "source": [
    "output_pd"
   ]
  },
  {
   "cell_type": "code",
   "execution_count": null,
   "id": "6c85928a",
   "metadata": {},
   "outputs": [],
   "source": []
  },
  {
   "cell_type": "code",
   "execution_count": 40,
   "id": "f7e561cd",
   "metadata": {},
   "outputs": [],
   "source": [
    "# average for total gradients\n",
    "total_hidden_gradient = np.average(hidden_pd, axis=0)\n",
    "total_output_gradient = np.average(output_pd, axis=0)"
   ]
  },
  {
   "cell_type": "code",
   "execution_count": 41,
   "id": "7f8a917f",
   "metadata": {},
   "outputs": [
    {
     "data": {
      "text/plain": [
       "array([[-0.18957154,  0.26397532, -0.06267748],\n",
       "       [-0.12175574,  0.17175007, -0.03386876],\n",
       "       [-0.10146633,  0.15200216, -0.03553316],\n",
       "       [-0.13109558,  0.17544464, -0.04796773]])"
      ]
     },
     "execution_count": 41,
     "metadata": {},
     "output_type": "execute_result"
    }
   ],
   "source": [
    "total_hidden_gradient"
   ]
  },
  {
   "cell_type": "code",
   "execution_count": 42,
   "id": "e8fa1bf8",
   "metadata": {},
   "outputs": [
    {
     "data": {
      "text/plain": [
       "array([[-1.16902536],\n",
       "       [-0.38228642],\n",
       "       [-0.49494853],\n",
       "       [-0.24164484]])"
      ]
     },
     "execution_count": 42,
     "metadata": {},
     "output_type": "execute_result"
    }
   ],
   "source": [
    "total_output_gradient"
   ]
  },
  {
   "cell_type": "code",
   "execution_count": null,
   "id": "0c6ce849",
   "metadata": {},
   "outputs": [],
   "source": [
    "# current output_weights\n",
    "# array([[-0.5910955 ],\n",
    "#        [ 0.75623487],\n",
    "#        [-0.94522481],\n",
    "#        [ 0.34093502]])"
   ]
  },
  {
   "cell_type": "code",
   "execution_count": 43,
   "id": "9ca9f3db",
   "metadata": {},
   "outputs": [],
   "source": [
    "# update weights\n",
    "hidden_weights += - alpha * total_hidden_gradient\n",
    "output_weights += - alpha * total_output_gradient"
   ]
  },
  {
   "cell_type": "code",
   "execution_count": 45,
   "id": "4174c589",
   "metadata": {},
   "outputs": [
    {
     "data": {
      "text/plain": [
       "array([[-0.14699884,  0.41425146, -0.9935035 ],\n",
       "       [-0.38315928, -0.72366323, -0.81193593],\n",
       "       [-0.61733294, -0.32407876, -0.20291174],\n",
       "       [ 0.09074303, -0.17915544,  0.37523577]])"
      ]
     },
     "execution_count": 45,
     "metadata": {},
     "output_type": "execute_result"
    }
   ],
   "source": [
    "hidden_weights"
   ]
  },
  {
   "cell_type": "code",
   "execution_count": 46,
   "id": "6dd5a8ee",
   "metadata": {},
   "outputs": [
    {
     "data": {
      "text/plain": [
       "array([[-0.47419296],\n",
       "       [ 0.79446351],\n",
       "       [-0.89572996],\n",
       "       [ 0.3650995 ]])"
      ]
     },
     "execution_count": 46,
     "metadata": {},
     "output_type": "execute_result"
    }
   ],
   "source": [
    "output_weights"
   ]
  },
  {
   "cell_type": "code",
   "execution_count": null,
   "id": "0cb7025b",
   "metadata": {},
   "outputs": [],
   "source": []
  },
  {
   "cell_type": "code",
   "execution_count": 47,
   "id": "7ef9e762",
   "metadata": {},
   "outputs": [
    {
     "name": "stdout",
     "output_type": "stream",
     "text": [
      "Output After Training: \n",
      "[[-0.64926151]\n",
      " [-0.70526557]\n",
      " [-0.67881543]\n",
      " [-0.71507728]\n",
      " [-0.6107305 ]\n",
      " [-0.6550019 ]]\n"
     ]
    }
   ],
   "source": [
    "# print the final outputs of the neural network on the inputs X\n",
    "print(\"Output After Training: \\n{}\".format(output_layer_outputs))"
   ]
  },
  {
   "cell_type": "code",
   "execution_count": null,
   "id": "15fb9faf",
   "metadata": {},
   "outputs": [],
   "source": []
  },
  {
   "cell_type": "code",
   "execution_count": null,
   "id": "75acad29",
   "metadata": {},
   "outputs": [],
   "source": []
  },
  {
   "cell_type": "markdown",
   "id": "ce0c2bfa",
   "metadata": {},
   "source": [
    "## Iteration 2"
   ]
  },
  {
   "cell_type": "code",
   "execution_count": 48,
   "id": "241754c5",
   "metadata": {},
   "outputs": [],
   "source": [
    "# forward phase\n",
    "# np.hstack((np.ones(...), X) adds a fixed input of 1 for the bias weight\n",
    "input_layer_outputs = np.hstack((np.ones((X.shape[0], 1)), X))\n",
    "hidden_layer_outputs = np.hstack((np.ones((X.shape[0], 1)), sigmoid(np.dot(input_layer_outputs, hidden_weights))))\n",
    "output_layer_outputs = np.dot(hidden_layer_outputs, output_weights)"
   ]
  },
  {
   "cell_type": "code",
   "execution_count": 49,
   "id": "fed4197e",
   "metadata": {},
   "outputs": [
    {
     "data": {
      "text/plain": [
       "array([[1., 0., 0., 1.],\n",
       "       [1., 0., 1., 1.],\n",
       "       [1., 1., 0., 0.],\n",
       "       [1., 1., 1., 0.],\n",
       "       [1., 1., 0., 1.],\n",
       "       [1., 1., 1., 1.]])"
      ]
     },
     "execution_count": 49,
     "metadata": {},
     "output_type": "execute_result"
    }
   ],
   "source": [
    "input_layer_outputs"
   ]
  },
  {
   "cell_type": "code",
   "execution_count": 50,
   "id": "528f27b9",
   "metadata": {},
   "outputs": [
    {
     "data": {
      "text/plain": [
       "array([[1.        , 0.48593976, 0.55850479, 0.35017553],\n",
       "       [1.        , 0.33769372, 0.47776898, 0.30551335],\n",
       "       [1.        , 0.37048001, 0.42325833, 0.14119021],\n",
       "       [1.        , 0.24094765, 0.34671949, 0.11832889],\n",
       "       [1.        , 0.39188035, 0.38023116, 0.19306695],\n",
       "       [1.        , 0.2579314 , 0.30732694, 0.16340403]])"
      ]
     },
     "execution_count": 50,
     "metadata": {},
     "output_type": "execute_result"
    }
   ],
   "source": [
    "hidden_layer_outputs"
   ]
  },
  {
   "cell_type": "code",
   "execution_count": 51,
   "id": "4dd50518",
   "metadata": {},
   "outputs": [
    {
     "data": {
      "text/plain": [
       "array([[-0.46055212],\n",
       "       [-0.52231684],\n",
       "       [-0.5074368 ],\n",
       "       [-0.55013407],\n",
       "       [-0.43295411],\n",
       "       [-0.4848991 ]])"
      ]
     },
     "execution_count": 51,
     "metadata": {},
     "output_type": "execute_result"
    }
   ],
   "source": [
    "output_layer_outputs"
   ]
  },
  {
   "cell_type": "code",
   "execution_count": null,
   "id": "f5285429",
   "metadata": {},
   "outputs": [],
   "source": []
  },
  {
   "cell_type": "code",
   "execution_count": 52,
   "id": "ed9c7806",
   "metadata": {},
   "outputs": [],
   "source": [
    "# backward phase\n",
    "# output layer error term\n",
    "output_error = output_layer_outputs - y\n",
    "# hidden layer error term\n",
    "# [:, 1:] removes the bias term from the backpropagation\n",
    "hidden_error = hidden_layer_outputs[:, 1:] * (1 - hidden_layer_outputs[:, 1:]) * np.dot(output_error, output_weights.T[:, 1:])"
   ]
  },
  {
   "cell_type": "code",
   "execution_count": 53,
   "id": "81edfba5",
   "metadata": {},
   "outputs": [
    {
     "data": {
      "text/plain": [
       "array([[-0.46055212],\n",
       "       [-1.52231684],\n",
       "       [-0.5074368 ],\n",
       "       [-1.55013407],\n",
       "       [-1.43295411],\n",
       "       [-0.4848991 ]])"
      ]
     },
     "execution_count": 53,
     "metadata": {},
     "output_type": "execute_result"
    }
   ],
   "source": [
    "output_error"
   ]
  },
  {
   "cell_type": "code",
   "execution_count": 54,
   "id": "c32d4a16",
   "metadata": {},
   "outputs": [
    {
     "data": {
      "text/plain": [
       "array([[0.48593976, 0.55850479, 0.35017553],\n",
       "       [0.33769372, 0.47776898, 0.30551335],\n",
       "       [0.37048001, 0.42325833, 0.14119021],\n",
       "       [0.24094765, 0.34671949, 0.11832889],\n",
       "       [0.39188035, 0.38023116, 0.19306695],\n",
       "       [0.2579314 , 0.30732694, 0.16340403]])"
      ]
     },
     "execution_count": 54,
     "metadata": {},
     "output_type": "execute_result"
    }
   ],
   "source": [
    "hidden_layer_outputs[:, 1:]"
   ]
  },
  {
   "cell_type": "code",
   "execution_count": 55,
   "id": "87c0303c",
   "metadata": {},
   "outputs": [
    {
     "data": {
      "text/plain": [
       "array([[0.51406024, 0.44149521, 0.64982447],\n",
       "       [0.66230628, 0.52223102, 0.69448665],\n",
       "       [0.62951999, 0.57674167, 0.85880979],\n",
       "       [0.75905235, 0.65328051, 0.88167111],\n",
       "       [0.60811965, 0.61976884, 0.80693305],\n",
       "       [0.7420686 , 0.69267306, 0.83659597]])"
      ]
     },
     "execution_count": 55,
     "metadata": {},
     "output_type": "execute_result"
    }
   ],
   "source": [
    "(1 - hidden_layer_outputs[:, 1:])"
   ]
  },
  {
   "cell_type": "code",
   "execution_count": 56,
   "id": "b2031b2b",
   "metadata": {},
   "outputs": [
    {
     "data": {
      "text/plain": [
       "array([[-0.36589185,  0.41253033, -0.16814735],\n",
       "       [-1.20942519,  1.3635848 , -0.55579712],\n",
       "       [-0.40314002,  0.45452634, -0.18526492],\n",
       "       [-1.23152496,  1.38850153, -0.56595318],\n",
       "       [-1.13842976,  1.28353993, -0.52317084],\n",
       "       [-0.38523464,  0.43433865, -0.17703642]])"
      ]
     },
     "execution_count": 56,
     "metadata": {},
     "output_type": "execute_result"
    }
   ],
   "source": [
    "np.dot(output_error, output_weights.T[:, 1:])"
   ]
  },
  {
   "cell_type": "code",
   "execution_count": 57,
   "id": "80e64c4d",
   "metadata": {},
   "outputs": [
    {
     "data": {
      "text/plain": [
       "array([[-0.09140063,  0.10172057, -0.03826237],\n",
       "       [-0.27049601,  0.34022229, -0.11792622],\n",
       "       [-0.09402216,  0.11095475, -0.0224644 ],\n",
       "       [-0.22523591,  0.31450266, -0.05904429],\n",
       "       [-0.27129936,  0.30247315, -0.08150589],\n",
       "       [-0.07373499,  0.09246075, -0.02420144]])"
      ]
     },
     "execution_count": 57,
     "metadata": {},
     "output_type": "execute_result"
    }
   ],
   "source": [
    "hidden_error"
   ]
  },
  {
   "cell_type": "code",
   "execution_count": null,
   "id": "cf42ac02",
   "metadata": {},
   "outputs": [],
   "source": []
  },
  {
   "cell_type": "code",
   "execution_count": 58,
   "id": "43f2b496",
   "metadata": {},
   "outputs": [],
   "source": [
    "# partial derivatives\n",
    "hidden_pd = input_layer_outputs[:, :, np.newaxis] * hidden_error[: , np.newaxis, :]\n",
    "output_pd = hidden_layer_outputs[:, :, np.newaxis] * output_error[:, np.newaxis, :]"
   ]
  },
  {
   "cell_type": "code",
   "execution_count": 59,
   "id": "d89fddad",
   "metadata": {
    "scrolled": true
   },
   "outputs": [
    {
     "data": {
      "text/plain": [
       "array([[[1.],\n",
       "        [0.],\n",
       "        [0.],\n",
       "        [1.]],\n",
       "\n",
       "       [[1.],\n",
       "        [0.],\n",
       "        [1.],\n",
       "        [1.]],\n",
       "\n",
       "       [[1.],\n",
       "        [1.],\n",
       "        [0.],\n",
       "        [0.]],\n",
       "\n",
       "       [[1.],\n",
       "        [1.],\n",
       "        [1.],\n",
       "        [0.]],\n",
       "\n",
       "       [[1.],\n",
       "        [1.],\n",
       "        [0.],\n",
       "        [1.]],\n",
       "\n",
       "       [[1.],\n",
       "        [1.],\n",
       "        [1.],\n",
       "        [1.]]])"
      ]
     },
     "execution_count": 59,
     "metadata": {},
     "output_type": "execute_result"
    }
   ],
   "source": [
    "input_layer_outputs[:, :, np.newaxis]"
   ]
  },
  {
   "cell_type": "code",
   "execution_count": 60,
   "id": "b2f1358c",
   "metadata": {},
   "outputs": [
    {
     "data": {
      "text/plain": [
       "array([[[-0.09140063,  0.10172057, -0.03826237]],\n",
       "\n",
       "       [[-0.27049601,  0.34022229, -0.11792622]],\n",
       "\n",
       "       [[-0.09402216,  0.11095475, -0.0224644 ]],\n",
       "\n",
       "       [[-0.22523591,  0.31450266, -0.05904429]],\n",
       "\n",
       "       [[-0.27129936,  0.30247315, -0.08150589]],\n",
       "\n",
       "       [[-0.07373499,  0.09246075, -0.02420144]]])"
      ]
     },
     "execution_count": 60,
     "metadata": {},
     "output_type": "execute_result"
    }
   ],
   "source": [
    "hidden_error[: , np.newaxis, :]"
   ]
  },
  {
   "cell_type": "code",
   "execution_count": 61,
   "id": "76044edc",
   "metadata": {
    "scrolled": true
   },
   "outputs": [
    {
     "data": {
      "text/plain": [
       "array([[[-0.09140063,  0.10172057, -0.03826237],\n",
       "        [-0.        ,  0.        , -0.        ],\n",
       "        [-0.        ,  0.        , -0.        ],\n",
       "        [-0.09140063,  0.10172057, -0.03826237]],\n",
       "\n",
       "       [[-0.27049601,  0.34022229, -0.11792622],\n",
       "        [-0.        ,  0.        , -0.        ],\n",
       "        [-0.27049601,  0.34022229, -0.11792622],\n",
       "        [-0.27049601,  0.34022229, -0.11792622]],\n",
       "\n",
       "       [[-0.09402216,  0.11095475, -0.0224644 ],\n",
       "        [-0.09402216,  0.11095475, -0.0224644 ],\n",
       "        [-0.        ,  0.        , -0.        ],\n",
       "        [-0.        ,  0.        , -0.        ]],\n",
       "\n",
       "       [[-0.22523591,  0.31450266, -0.05904429],\n",
       "        [-0.22523591,  0.31450266, -0.05904429],\n",
       "        [-0.22523591,  0.31450266, -0.05904429],\n",
       "        [-0.        ,  0.        , -0.        ]],\n",
       "\n",
       "       [[-0.27129936,  0.30247315, -0.08150589],\n",
       "        [-0.27129936,  0.30247315, -0.08150589],\n",
       "        [-0.        ,  0.        , -0.        ],\n",
       "        [-0.27129936,  0.30247315, -0.08150589]],\n",
       "\n",
       "       [[-0.07373499,  0.09246075, -0.02420144],\n",
       "        [-0.07373499,  0.09246075, -0.02420144],\n",
       "        [-0.07373499,  0.09246075, -0.02420144],\n",
       "        [-0.07373499,  0.09246075, -0.02420144]]])"
      ]
     },
     "execution_count": 61,
     "metadata": {},
     "output_type": "execute_result"
    }
   ],
   "source": [
    "hidden_pd"
   ]
  },
  {
   "cell_type": "code",
   "execution_count": 62,
   "id": "83e0e27d",
   "metadata": {
    "scrolled": true
   },
   "outputs": [
    {
     "data": {
      "text/plain": [
       "array([[[1.        ],\n",
       "        [0.48593976],\n",
       "        [0.55850479],\n",
       "        [0.35017553]],\n",
       "\n",
       "       [[1.        ],\n",
       "        [0.33769372],\n",
       "        [0.47776898],\n",
       "        [0.30551335]],\n",
       "\n",
       "       [[1.        ],\n",
       "        [0.37048001],\n",
       "        [0.42325833],\n",
       "        [0.14119021]],\n",
       "\n",
       "       [[1.        ],\n",
       "        [0.24094765],\n",
       "        [0.34671949],\n",
       "        [0.11832889]],\n",
       "\n",
       "       [[1.        ],\n",
       "        [0.39188035],\n",
       "        [0.38023116],\n",
       "        [0.19306695]],\n",
       "\n",
       "       [[1.        ],\n",
       "        [0.2579314 ],\n",
       "        [0.30732694],\n",
       "        [0.16340403]]])"
      ]
     },
     "execution_count": 62,
     "metadata": {},
     "output_type": "execute_result"
    }
   ],
   "source": [
    "hidden_layer_outputs[:, :, np.newaxis] "
   ]
  },
  {
   "cell_type": "code",
   "execution_count": 63,
   "id": "93d23a4b",
   "metadata": {},
   "outputs": [
    {
     "data": {
      "text/plain": [
       "array([[[-0.46055212]],\n",
       "\n",
       "       [[-1.52231684]],\n",
       "\n",
       "       [[-0.5074368 ]],\n",
       "\n",
       "       [[-1.55013407]],\n",
       "\n",
       "       [[-1.43295411]],\n",
       "\n",
       "       [[-0.4848991 ]]])"
      ]
     },
     "execution_count": 63,
     "metadata": {},
     "output_type": "execute_result"
    }
   ],
   "source": [
    "output_error[:, np.newaxis, :]"
   ]
  },
  {
   "cell_type": "code",
   "execution_count": 64,
   "id": "3ac504b7",
   "metadata": {
    "scrolled": true
   },
   "outputs": [
    {
     "data": {
      "text/plain": [
       "array([[[-0.46055212],\n",
       "        [-0.22380058],\n",
       "        [-0.25722056],\n",
       "        [-0.16127408]],\n",
       "\n",
       "       [[-1.52231684],\n",
       "        [-0.51407684],\n",
       "        [-0.72731577],\n",
       "        [-0.46508812]],\n",
       "\n",
       "       [[-0.5074368 ],\n",
       "        [-0.18799519],\n",
       "        [-0.21477685],\n",
       "        [-0.07164511]],\n",
       "\n",
       "       [[-1.55013407],\n",
       "        [-0.37350116],\n",
       "        [-0.5374617 ],\n",
       "        [-0.18342564]],\n",
       "\n",
       "       [[-1.43295411],\n",
       "        [-0.56154656],\n",
       "        [-0.5448538 ],\n",
       "        [-0.27665608]],\n",
       "\n",
       "       [[-0.4848991 ],\n",
       "        [-0.1250707 ],\n",
       "        [-0.14902256],\n",
       "        [-0.07923447]]])"
      ]
     },
     "execution_count": 64,
     "metadata": {},
     "output_type": "execute_result"
    }
   ],
   "source": [
    "output_pd"
   ]
  },
  {
   "cell_type": "code",
   "execution_count": null,
   "id": "642e8ba0",
   "metadata": {},
   "outputs": [],
   "source": []
  },
  {
   "cell_type": "code",
   "execution_count": 65,
   "id": "7c6294dc",
   "metadata": {},
   "outputs": [],
   "source": [
    "# average for total gradients\n",
    "total_hidden_gradient = np.average(hidden_pd, axis=0)\n",
    "total_output_gradient = np.average(output_pd, axis=0)"
   ]
  },
  {
   "cell_type": "code",
   "execution_count": 66,
   "id": "b1e4cd6a",
   "metadata": {},
   "outputs": [
    {
     "data": {
      "text/plain": [
       "array([[-0.17103151,  0.21038903, -0.0572341 ],\n",
       "       [-0.1107154 ,  0.13673188, -0.03120267],\n",
       "       [-0.09491115,  0.12453095, -0.03352866],\n",
       "       [-0.11782183,  0.13947946, -0.04364932]])"
      ]
     },
     "execution_count": 66,
     "metadata": {},
     "output_type": "execute_result"
    }
   ],
   "source": [
    "total_hidden_gradient"
   ]
  },
  {
   "cell_type": "code",
   "execution_count": 67,
   "id": "6ea24be3",
   "metadata": {},
   "outputs": [
    {
     "data": {
      "text/plain": [
       "array([[-0.99304884],\n",
       "       [-0.33099851],\n",
       "       [-0.40510854],\n",
       "       [-0.20622058]])"
      ]
     },
     "execution_count": 67,
     "metadata": {},
     "output_type": "execute_result"
    }
   ],
   "source": [
    "total_output_gradient"
   ]
  },
  {
   "cell_type": "code",
   "execution_count": 68,
   "id": "e170f38e",
   "metadata": {},
   "outputs": [],
   "source": [
    "# current output_weights\n",
    "# array([[-0.47419296],\n",
    "#        [ 0.79446351],\n",
    "#        [-0.89572996],\n",
    "#        [ 0.3650995 ]])"
   ]
  },
  {
   "cell_type": "code",
   "execution_count": 69,
   "id": "33e4a399",
   "metadata": {},
   "outputs": [],
   "source": [
    "# update weights\n",
    "hidden_weights += - alpha * total_hidden_gradient\n",
    "output_weights += - alpha * total_output_gradient"
   ]
  },
  {
   "cell_type": "code",
   "execution_count": 70,
   "id": "4abf1542",
   "metadata": {},
   "outputs": [
    {
     "data": {
      "text/plain": [
       "array([[-0.12989569,  0.39321255, -0.98778009],\n",
       "       [-0.37208774, -0.73733641, -0.80881567],\n",
       "       [-0.60784183, -0.33653186, -0.19955887],\n",
       "       [ 0.10252521, -0.19310338,  0.37960071]])"
      ]
     },
     "execution_count": 70,
     "metadata": {},
     "output_type": "execute_result"
    }
   ],
   "source": [
    "hidden_weights"
   ]
  },
  {
   "cell_type": "code",
   "execution_count": 71,
   "id": "b5b8a276",
   "metadata": {},
   "outputs": [
    {
     "data": {
      "text/plain": [
       "array([[-0.37488808],\n",
       "       [ 0.82756337],\n",
       "       [-0.85521911],\n",
       "       [ 0.38572156]])"
      ]
     },
     "execution_count": 71,
     "metadata": {},
     "output_type": "execute_result"
    }
   ],
   "source": [
    "output_weights"
   ]
  },
  {
   "cell_type": "code",
   "execution_count": null,
   "id": "9daa6771",
   "metadata": {},
   "outputs": [],
   "source": []
  },
  {
   "cell_type": "code",
   "execution_count": 72,
   "id": "e344564f",
   "metadata": {},
   "outputs": [
    {
     "name": "stdout",
     "output_type": "stream",
     "text": [
      "Output After Training: \n",
      "[[-0.46055212]\n",
      " [-0.52231684]\n",
      " [-0.5074368 ]\n",
      " [-0.55013407]\n",
      " [-0.43295411]\n",
      " [-0.4848991 ]]\n"
     ]
    }
   ],
   "source": [
    "# print the final outputs of the neural network on the inputs X\n",
    "print(\"Output After Training: \\n{}\".format(output_layer_outputs))"
   ]
  },
  {
   "cell_type": "code",
   "execution_count": null,
   "id": "dc87112d",
   "metadata": {},
   "outputs": [],
   "source": []
  },
  {
   "cell_type": "code",
   "execution_count": null,
   "id": "08ecc3db",
   "metadata": {},
   "outputs": [],
   "source": []
  },
  {
   "cell_type": "code",
   "execution_count": null,
   "id": "06c36dde",
   "metadata": {},
   "outputs": [],
   "source": []
  },
  {
   "cell_type": "code",
   "execution_count": null,
   "id": "c2bb0cfe",
   "metadata": {},
   "outputs": [],
   "source": []
  }
 ],
 "metadata": {
  "kernelspec": {
   "display_name": "Python 3",
   "language": "python",
   "name": "python3"
  },
  "language_info": {
   "codemirror_mode": {
    "name": "ipython",
    "version": 3
   },
   "file_extension": ".py",
   "mimetype": "text/x-python",
   "name": "python",
   "nbconvert_exporter": "python",
   "pygments_lexer": "ipython3",
   "version": "3.8.8"
  },
  "toc": {
   "base_numbering": 1,
   "nav_menu": {},
   "number_sections": true,
   "sideBar": true,
   "skip_h1_title": false,
   "title_cell": "Table of Contents",
   "title_sidebar": "Contents",
   "toc_cell": false,
   "toc_position": {
    "height": "calc(100% - 180px)",
    "left": "10px",
    "top": "150px",
    "width": "165px"
   },
   "toc_section_display": true,
   "toc_window_display": true
  }
 },
 "nbformat": 4,
 "nbformat_minor": 5
}
